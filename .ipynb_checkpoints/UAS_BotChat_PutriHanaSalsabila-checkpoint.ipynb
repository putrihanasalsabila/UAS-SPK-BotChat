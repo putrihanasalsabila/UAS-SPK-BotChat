{
 "cells": [
  {
   "cell_type": "code",
   "execution_count": null,
   "id": "4877323a",
   "metadata": {},
   "outputs": [
    {
     "name": "stdout",
     "output_type": "stream",
     "text": [
      "User\t:hallo\n",
      "Bot\t: Hai juga\n",
      "User\t:hai\n",
      "Bot\t: Halo juga\n",
      "User\t:kabarmu\n",
      "Bot\t: Hai juga\n",
      "User\t:kabarmu\n",
      "Bot\t: Halo juga\n",
      "User\t:kabarmu\n",
      "Bot\t: Apa kabar\n",
      "User\t:kabarmu\n",
      "Bot\t: Halo juga\n",
      "User\t:kabarmu\n",
      "Bot\t: Halo juga\n",
      "User\t:kabarmu\n",
      "Bot\t: Hai juga\n"
     ]
    }
   ],
   "source": [
    "import re\n",
    "import random\n",
    "\n",
    "sapaan = [\"Hai juga\", \"Halo juga\", \"Apa kabar\", \"Baik baik saja\"]\n",
    "\n",
    "while True:\n",
    "    x = input(\"User\\t:\")\n",
    "    if re.findall(r'hallo|hai|kabarmu', x):\n",
    "        print(\"Bot\\t:\", random.choice(sapaan))\n",
    "    else:\n",
    "        print(\"Bot/t: Aku tidak paham\")"
   ]
  },
  {
   "cell_type": "code",
   "execution_count": null,
   "id": "846c7079",
   "metadata": {},
   "outputs": [],
   "source": []
  }
 ],
 "metadata": {
  "kernelspec": {
   "display_name": "Python 3",
   "language": "python",
   "name": "python3"
  },
  "language_info": {
   "codemirror_mode": {
    "name": "ipython",
    "version": 3
   },
   "file_extension": ".py",
   "mimetype": "text/x-python",
   "name": "python",
   "nbconvert_exporter": "python",
   "pygments_lexer": "ipython3",
   "version": "3.8.8"
  }
 },
 "nbformat": 4,
 "nbformat_minor": 5
}
